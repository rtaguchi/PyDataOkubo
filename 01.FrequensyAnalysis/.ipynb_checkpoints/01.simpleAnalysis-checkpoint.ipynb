{
 "cells": [
  {
   "cell_type": "markdown",
   "metadata": {},
   "source": [
    "# とても簡単な頻度分析\n",
    "## はじめに\n",
    "最も簡単な方法として、分析対象となる文章が保存されたローカルファイルを読み込み分析します。  \n",
    "対象となる文章は英語で書いてあるものを用意して下さい。英語は単語と単語がスペースで区切られているため、単語のカウントが容易です。  \n",
    "（日本語のように単語と単語が区切られていない言語は、分析前の前処理が大変なので最初は避けたいところです。）\n",
    "\n",
    "なお、対象となる文章は英語で書いてあるものであれば何でも良いですが、ある程度長くないと分析しても面白くありません。  \n",
    "ここでは例としてアメリカの音楽メディア「[Pitchfork](http://pitchfork.com/)」のサイトより拝借した[このレビューテキスト](http://pitchfork.com/reviews/albums/20935-compton/)を分析します。  "
   ]
  },
  {
   "cell_type": "markdown",
   "metadata": {},
   "source": [
    "### ファイルの読み込み\n",
    "まずテキストの内容が保存されているファイルを読み込みます。  \n",
    "（対象のテキストをtarget.txtというファイル名で保存し、カレントディレクトリに置いておくこと）"
   ]
  },
  {
   "cell_type": "code",
   "execution_count": null,
   "metadata": {
    "collapsed": false
   },
   "outputs": [],
   "source": [
    "with open(\"target.txt\", \"r\", encoding=\"utf-8\") as file:\n",
    "  target_str = file.read()"
   ]
  },
  {
   "cell_type": "markdown",
   "metadata": {},
   "source": [
    "表示してちゃんと読み込めたか確認しましょう。"
   ]
  },
  {
   "cell_type": "code",
   "execution_count": null,
   "metadata": {
    "collapsed": false,
    "scrolled": true
   },
   "outputs": [],
   "source": [
    "print(target_str)"
   ]
  },
  {
   "cell_type": "markdown",
   "metadata": {},
   "source": [
    "「.」「,」「\"」「(」などが混ざると単純に単語に分割できなくなってしまうので、ここではこれらを一旦除去してしまいます。  \n",
    "（雑ですいません。おまけに除去するのも、もっといい方法がありそうなもんです。）"
   ]
  },
  {
   "cell_type": "code",
   "execution_count": null,
   "metadata": {
    "collapsed": false,
    "scrolled": true
   },
   "outputs": [],
   "source": [
    "target_str = target_str.replace(',', '').replace('.', '').replace('\"', '').replace('(', '').replace(')', '')\n",
    "print(target_str)"
   ]
  },
  {
   "cell_type": "markdown",
   "metadata": {},
   "source": [
    "### 文章の分割\n",
    "読み込みがうまく行ったので、早速、単語に分割してみましょう。\n",
    "分割にはsplitメソッドを利用します。"
   ]
  },
  {
   "cell_type": "code",
   "execution_count": null,
   "metadata": {
    "collapsed": false
   },
   "outputs": [],
   "source": [
    "word_list = target_str.split(' ')"
   ]
  },
  {
   "cell_type": "markdown",
   "metadata": {},
   "source": [
    "これも表示して確認します。"
   ]
  },
  {
   "cell_type": "code",
   "execution_count": null,
   "metadata": {
    "collapsed": false,
    "scrolled": true
   },
   "outputs": [],
   "source": [
    "print(word_list)"
   ]
  },
  {
   "cell_type": "markdown",
   "metadata": {},
   "source": [
    "### 単語のカウント\n",
    "単語のリストが出来たので、リストを上から順に眺めてカウントしていきます。"
   ]
  },
  {
   "cell_type": "code",
   "execution_count": null,
   "metadata": {
    "collapsed": true
   },
   "outputs": [],
   "source": [
    "word_count = {}\n",
    "for word in word_list:\n",
    "    if word in word_count:\n",
    "        word_count[word] = word_count[word] + 1\n",
    "    else:\n",
    "        word_count[word] = 1"
   ]
  },
  {
   "cell_type": "markdown",
   "metadata": {},
   "source": [
    "結果はこんな感じになりました。"
   ]
  },
  {
   "cell_type": "code",
   "execution_count": null,
   "metadata": {
    "collapsed": false,
    "scrolled": true
   },
   "outputs": [],
   "source": [
    "print(word_count)"
   ]
  },
  {
   "cell_type": "markdown",
   "metadata": {},
   "source": [
    "登場した単語の数を調べるにはword_countの長さを調べればOKです。"
   ]
  },
  {
   "cell_type": "code",
   "execution_count": null,
   "metadata": {
    "collapsed": false
   },
   "outputs": [],
   "source": [
    "print(len(word_count))"
   ]
  },
  {
   "cell_type": "markdown",
   "metadata": {},
   "source": [
    "### ソート\n",
    "頻度が高い順にソートしましょう。"
   ]
  },
  {
   "cell_type": "code",
   "execution_count": null,
   "metadata": {
    "collapsed": false
   },
   "outputs": [],
   "source": [
    "for k, v in sorted(word_count.items(), key=lambda x:x[1], reverse=True):\n",
    "    print (k.ljust(24), str(v).rjust(2))"
   ]
  },
  {
   "cell_type": "markdown",
   "metadata": {
    "collapsed": true
   },
   "source": [
    "当たり前ですが、「The」が多いですね。  \n",
    "言語によって頻出する単語というのは決まっているため（英語だったら「the」「and」「a」など）、  \n",
    "単純にアルファベットを入れ替えるだけというような暗号は比較的簡単にこの頻度分析で破られてしまうそうです。"
   ]
  },
  {
   "cell_type": "markdown",
   "metadata": {},
   "source": [
    "## 終わりに\n",
    "以上で簡単な頻度分析は終わりです。  \n",
    "まぁ、これだけだとそんなに面白い分析は出来そうにありません。  \n",
    "以降では関連する複数の文章を分析し、その類似や傾向を判断できるかどうか、にチャレンジしてみましょう。"
   ]
  },
  {
   "cell_type": "markdown",
   "metadata": {},
   "source": [
    "### 追加課題\n",
    "以下、3つ追加課題を挙げますので時間がある方はやってみて下さい。\n",
    "* 今回分析した文章の中で最も長い単語はなんでしょうか\n",
    "* 今回分析した文章に登場した単語の長さの平均はいくつでしょうか\n",
    "* 今回分析した文章に登場した単語を先頭のアルファベットでグルーピングして出現数をヒストグラムにするとどのような分布になるでしょうか  "
   ]
  }
 ],
 "metadata": {
  "kernelspec": {
   "display_name": "Python 3",
   "language": "python",
   "name": "python3"
  },
  "language_info": {
   "codemirror_mode": {
    "name": "ipython",
    "version": 3
   },
   "file_extension": ".py",
   "mimetype": "text/x-python",
   "name": "python",
   "nbconvert_exporter": "python",
   "pygments_lexer": "ipython3",
   "version": "3.4.3"
  }
 },
 "nbformat": 4,
 "nbformat_minor": 0
}
